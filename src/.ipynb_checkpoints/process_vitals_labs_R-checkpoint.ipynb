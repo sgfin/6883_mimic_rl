{
 "cells": [
  {
   "cell_type": "code",
   "execution_count": 1,
   "metadata": {},
   "outputs": [
    {
     "name": "stderr",
     "output_type": "stream",
     "text": [
      "Warning message:\n",
      "“replacing previous import by ‘tidyr::%>%’ when loading ‘broom’”Warning message:\n",
      "“replacing previous import by ‘tidyr::gather’ when loading ‘broom’”Warning message:\n",
      "“replacing previous import by ‘tidyr::spread’ when loading ‘broom’”── Attaching packages ─────────────────────────────────────── tidyverse 1.2.1 ──\n",
      "✔ ggplot2 2.2.1     ✔ purrr   0.2.4\n",
      "✔ tibble  1.4.2     ✔ dplyr   0.7.4\n",
      "✔ tidyr   0.8.0     ✔ stringr 1.2.0\n",
      "✔ readr   1.1.1     ✔ forcats 0.2.0\n",
      "── Conflicts ────────────────────────────────────────── tidyverse_conflicts() ──\n",
      "✖ dplyr::filter() masks stats::filter()\n",
      "✖ dplyr::lag()    masks stats::lag()\n",
      "\n",
      "Attaching package: ‘data.table’\n",
      "\n",
      "The following objects are masked from ‘package:dplyr’:\n",
      "\n",
      "    between, first, last\n",
      "\n",
      "The following object is masked from ‘package:purrr’:\n",
      "\n",
      "    transpose\n",
      "\n"
     ]
    }
   ],
   "source": [
    "library(tidyverse)\n",
    "library(data.table)"
   ]
  },
  {
   "cell_type": "code",
   "execution_count": 2,
   "metadata": {},
   "outputs": [
    {
     "name": "stderr",
     "output_type": "stream",
     "text": [
      "Parsed with column specification:\n",
      "cols(\n",
      "  subject_id = col_integer(),\n",
      "  hadm_id = col_integer(),\n",
      "  icustay_id = col_integer(),\n",
      "  intime = col_datetime(format = \"\"),\n",
      "  outtime = col_datetime(format = \"\"),\n",
      "  suspected_infection_time_poe = col_datetime(format = \"\"),\n",
      "  window_start = col_datetime(format = \"\"),\n",
      "  window_end = col_datetime(format = \"\"),\n",
      "  hospital_expire_flag = col_integer()\n",
      ")\n",
      "Parsed with column specification:\n",
      "cols(\n",
      "  subject_id = col_integer(),\n",
      "  hadm_id = col_integer(),\n",
      "  icustay_id = col_integer(),\n",
      "  interval_start_time = col_datetime(format = \"\"),\n",
      "  interval_end_time = col_datetime(format = \"\")\n",
      ")\n"
     ]
    }
   ],
   "source": [
    "# Load the cohort and the interval times -- interval times derived in 'create_action_space.ipynb'\n",
    "data_path <- '../data/'\n",
    "cohort_df <- read_csv(paste0(data_path, 'cohort.csv'))\n",
    "interval_times_df <- read_csv(paste0(data_path, 'interval_times_df.csv'))"
   ]
  },
  {
   "cell_type": "code",
   "execution_count": 3,
   "metadata": {
    "scrolled": true
   },
   "outputs": [
    {
     "name": "stderr",
     "output_type": "stream",
     "text": [
      "Parsed with column specification:\n",
      "cols(\n",
      "  subject_id = col_integer(),\n",
      "  hadm_id = col_integer(),\n",
      "  icustay_id = col_integer(),\n",
      "  window_start = col_datetime(format = \"\"),\n",
      "  window_end = col_datetime(format = \"\"),\n",
      "  intime = col_datetime(format = \"\"),\n",
      "  outtime = col_datetime(format = \"\"),\n",
      "  charttime = col_datetime(format = \"\"),\n",
      "  vital_id = col_character(),\n",
      "  valuenum = col_double()\n",
      ")\n"
     ]
    }
   ],
   "source": [
    "# Load the vitals\n",
    "vitals_df <- read_csv(paste0(data_path, 'vitals_cohort.csv'))"
   ]
  },
  {
   "cell_type": "code",
   "execution_count": 4,
   "metadata": {},
   "outputs": [
    {
     "data": {
      "text/html": [
       "<table>\n",
       "<thead><tr><th scope=col>subject_id</th><th scope=col>hadm_id</th><th scope=col>icustay_id</th><th scope=col>window_start</th><th scope=col>window_end</th><th scope=col>intime</th><th scope=col>outtime</th><th scope=col>charttime</th><th scope=col>vital_id</th><th scope=col>valuenum</th></tr></thead>\n",
       "<tbody>\n",
       "\t<tr><td>4                  </td><td>185777             </td><td>294638             </td><td>2191-03-15         </td><td>2191-03-18         </td><td>2191-03-16 00:29:31</td><td>2191-03-17 16:46:31</td><td>2191-03-16 01:30:00</td><td>HeartRate          </td><td>111.00000          </td></tr>\n",
       "\t<tr><td>4                  </td><td>185777             </td><td>294638             </td><td>2191-03-15         </td><td>2191-03-18         </td><td>2191-03-16 00:29:31</td><td>2191-03-17 16:46:31</td><td>2191-03-16 01:30:00</td><td>SpO2               </td><td> 98.00000          </td></tr>\n",
       "\t<tr><td>4                  </td><td>185777             </td><td>294638             </td><td>2191-03-15         </td><td>2191-03-18         </td><td>2191-03-16 00:29:31</td><td>2191-03-17 16:46:31</td><td>2191-03-16 01:30:00</td><td>TempC              </td><td> 37.44445          </td></tr>\n",
       "\t<tr><td>4                  </td><td>185777             </td><td>294638             </td><td>2191-03-15         </td><td>2191-03-18         </td><td>2191-03-16 00:29:31</td><td>2191-03-17 16:46:31</td><td>2191-03-16 02:00:00</td><td>DiasBP             </td><td> 63.00000          </td></tr>\n",
       "\t<tr><td>4                  </td><td>185777             </td><td>294638             </td><td>2191-03-15         </td><td>2191-03-18         </td><td>2191-03-16 00:29:31</td><td>2191-03-17 16:46:31</td><td>2191-03-16 02:00:00</td><td>HeartRate          </td><td>100.00000          </td></tr>\n",
       "\t<tr><td>4                  </td><td>185777             </td><td>294638             </td><td>2191-03-15         </td><td>2191-03-18         </td><td>2191-03-16 00:29:31</td><td>2191-03-17 16:46:31</td><td>2191-03-16 02:00:00</td><td>MeanBP             </td><td> 80.66670          </td></tr>\n",
       "</tbody>\n",
       "</table>\n"
      ],
      "text/latex": [
       "\\begin{tabular}{r|llllllllll}\n",
       " subject\\_id & hadm\\_id & icustay\\_id & window\\_start & window\\_end & intime & outtime & charttime & vital\\_id & valuenum\\\\\n",
       "\\hline\n",
       "\t 4                   & 185777              & 294638              & 2191-03-15          & 2191-03-18          & 2191-03-16 00:29:31 & 2191-03-17 16:46:31 & 2191-03-16 01:30:00 & HeartRate           & 111.00000          \\\\\n",
       "\t 4                   & 185777              & 294638              & 2191-03-15          & 2191-03-18          & 2191-03-16 00:29:31 & 2191-03-17 16:46:31 & 2191-03-16 01:30:00 & SpO2                &  98.00000          \\\\\n",
       "\t 4                   & 185777              & 294638              & 2191-03-15          & 2191-03-18          & 2191-03-16 00:29:31 & 2191-03-17 16:46:31 & 2191-03-16 01:30:00 & TempC               &  37.44445          \\\\\n",
       "\t 4                   & 185777              & 294638              & 2191-03-15          & 2191-03-18          & 2191-03-16 00:29:31 & 2191-03-17 16:46:31 & 2191-03-16 02:00:00 & DiasBP              &  63.00000          \\\\\n",
       "\t 4                   & 185777              & 294638              & 2191-03-15          & 2191-03-18          & 2191-03-16 00:29:31 & 2191-03-17 16:46:31 & 2191-03-16 02:00:00 & HeartRate           & 100.00000          \\\\\n",
       "\t 4                   & 185777              & 294638              & 2191-03-15          & 2191-03-18          & 2191-03-16 00:29:31 & 2191-03-17 16:46:31 & 2191-03-16 02:00:00 & MeanBP              &  80.66670          \\\\\n",
       "\\end{tabular}\n"
      ],
      "text/markdown": [
       "\n",
       "subject_id | hadm_id | icustay_id | window_start | window_end | intime | outtime | charttime | vital_id | valuenum | \n",
       "|---|---|---|---|---|---|\n",
       "| 4                   | 185777              | 294638              | 2191-03-15          | 2191-03-18          | 2191-03-16 00:29:31 | 2191-03-17 16:46:31 | 2191-03-16 01:30:00 | HeartRate           | 111.00000           | \n",
       "| 4                   | 185777              | 294638              | 2191-03-15          | 2191-03-18          | 2191-03-16 00:29:31 | 2191-03-17 16:46:31 | 2191-03-16 01:30:00 | SpO2                |  98.00000           | \n",
       "| 4                   | 185777              | 294638              | 2191-03-15          | 2191-03-18          | 2191-03-16 00:29:31 | 2191-03-17 16:46:31 | 2191-03-16 01:30:00 | TempC               |  37.44445           | \n",
       "| 4                   | 185777              | 294638              | 2191-03-15          | 2191-03-18          | 2191-03-16 00:29:31 | 2191-03-17 16:46:31 | 2191-03-16 02:00:00 | DiasBP              |  63.00000           | \n",
       "| 4                   | 185777              | 294638              | 2191-03-15          | 2191-03-18          | 2191-03-16 00:29:31 | 2191-03-17 16:46:31 | 2191-03-16 02:00:00 | HeartRate           | 100.00000           | \n",
       "| 4                   | 185777              | 294638              | 2191-03-15          | 2191-03-18          | 2191-03-16 00:29:31 | 2191-03-17 16:46:31 | 2191-03-16 02:00:00 | MeanBP              |  80.66670           | \n",
       "\n",
       "\n"
      ],
      "text/plain": [
       "  subject_id hadm_id icustay_id window_start window_end intime             \n",
       "1 4          185777  294638     2191-03-15   2191-03-18 2191-03-16 00:29:31\n",
       "2 4          185777  294638     2191-03-15   2191-03-18 2191-03-16 00:29:31\n",
       "3 4          185777  294638     2191-03-15   2191-03-18 2191-03-16 00:29:31\n",
       "4 4          185777  294638     2191-03-15   2191-03-18 2191-03-16 00:29:31\n",
       "5 4          185777  294638     2191-03-15   2191-03-18 2191-03-16 00:29:31\n",
       "6 4          185777  294638     2191-03-15   2191-03-18 2191-03-16 00:29:31\n",
       "  outtime             charttime           vital_id  valuenum \n",
       "1 2191-03-17 16:46:31 2191-03-16 01:30:00 HeartRate 111.00000\n",
       "2 2191-03-17 16:46:31 2191-03-16 01:30:00 SpO2       98.00000\n",
       "3 2191-03-17 16:46:31 2191-03-16 01:30:00 TempC      37.44445\n",
       "4 2191-03-17 16:46:31 2191-03-16 02:00:00 DiasBP     63.00000\n",
       "5 2191-03-17 16:46:31 2191-03-16 02:00:00 HeartRate 100.00000\n",
       "6 2191-03-17 16:46:31 2191-03-16 02:00:00 MeanBP     80.66670"
      ]
     },
     "metadata": {},
     "output_type": "display_data"
    }
   ],
   "source": [
    "head(vitals_df)"
   ]
  },
  {
   "cell_type": "code",
   "execution_count": 5,
   "metadata": {},
   "outputs": [],
   "source": [
    "# Cast to DT\n",
    "vitals_dt <- as.data.table(vitals_df, key = 'icustay_id')\n",
    "interval_times_dt <- as.data.table(interval_times_df, key = 'icustay_id')"
   ]
  },
  {
   "cell_type": "code",
   "execution_count": 6,
   "metadata": {},
   "outputs": [],
   "source": [
    "merged_vitals <- interval_times_dt %>% \n",
    "                    merge(vitals_dt, allow.cartesian = TRUE)"
   ]
  },
  {
   "cell_type": "code",
   "execution_count": 7,
   "metadata": {},
   "outputs": [],
   "source": [
    "mean_vitals <- merged_vitals[charttime > interval_start_time & charttime <= interval_end_time,\n",
    "                                   .(mean_vital = mean(valuenum)), by = .(subject_id, \n",
    "                                                                          hadm_id, \n",
    "                                                                          icustay_id, \n",
    "                                                                          interval_start_time, \n",
    "                                                                          interval_end_time, \n",
    "                                                                          vital_id)]"
   ]
  },
  {
   "cell_type": "code",
   "execution_count": 8,
   "metadata": {},
   "outputs": [
    {
     "data": {
      "text/html": [
       "<table>\n",
       "<thead><tr><th scope=col>subject_id</th><th scope=col>hadm_id</th><th scope=col>icustay_id</th><th scope=col>interval_start_time</th><th scope=col>interval_end_time</th><th scope=col>vital_id</th><th scope=col>mean_vital</th></tr></thead>\n",
       "<tbody>\n",
       "\t<tr><td>4                  </td><td>185777             </td><td>294638             </td><td>2191-03-16         </td><td>2191-03-16 04:00:00</td><td>HeartRate          </td><td> 94.75000          </td></tr>\n",
       "\t<tr><td>4                  </td><td>185777             </td><td>294638             </td><td>2191-03-16         </td><td>2191-03-16 04:00:00</td><td>SpO2               </td><td> 98.75000          </td></tr>\n",
       "\t<tr><td>4                  </td><td>185777             </td><td>294638             </td><td>2191-03-16         </td><td>2191-03-16 04:00:00</td><td>TempC              </td><td> 37.44445          </td></tr>\n",
       "\t<tr><td>4                  </td><td>185777             </td><td>294638             </td><td>2191-03-16         </td><td>2191-03-16 04:00:00</td><td>DiasBP             </td><td> 60.00000          </td></tr>\n",
       "\t<tr><td>4                  </td><td>185777             </td><td>294638             </td><td>2191-03-16         </td><td>2191-03-16 04:00:00</td><td>MeanBP             </td><td> 76.16670          </td></tr>\n",
       "\t<tr><td>4                  </td><td>185777             </td><td>294638             </td><td>2191-03-16         </td><td>2191-03-16 04:00:00</td><td>SysBP              </td><td>108.50000          </td></tr>\n",
       "</tbody>\n",
       "</table>\n"
      ],
      "text/latex": [
       "\\begin{tabular}{r|lllllll}\n",
       " subject\\_id & hadm\\_id & icustay\\_id & interval\\_start\\_time & interval\\_end\\_time & vital\\_id & mean\\_vital\\\\\n",
       "\\hline\n",
       "\t 4                   & 185777              & 294638              & 2191-03-16          & 2191-03-16 04:00:00 & HeartRate           &  94.75000          \\\\\n",
       "\t 4                   & 185777              & 294638              & 2191-03-16          & 2191-03-16 04:00:00 & SpO2                &  98.75000          \\\\\n",
       "\t 4                   & 185777              & 294638              & 2191-03-16          & 2191-03-16 04:00:00 & TempC               &  37.44445          \\\\\n",
       "\t 4                   & 185777              & 294638              & 2191-03-16          & 2191-03-16 04:00:00 & DiasBP              &  60.00000          \\\\\n",
       "\t 4                   & 185777              & 294638              & 2191-03-16          & 2191-03-16 04:00:00 & MeanBP              &  76.16670          \\\\\n",
       "\t 4                   & 185777              & 294638              & 2191-03-16          & 2191-03-16 04:00:00 & SysBP               & 108.50000          \\\\\n",
       "\\end{tabular}\n"
      ],
      "text/markdown": [
       "\n",
       "subject_id | hadm_id | icustay_id | interval_start_time | interval_end_time | vital_id | mean_vital | \n",
       "|---|---|---|---|---|---|\n",
       "| 4                   | 185777              | 294638              | 2191-03-16          | 2191-03-16 04:00:00 | HeartRate           |  94.75000           | \n",
       "| 4                   | 185777              | 294638              | 2191-03-16          | 2191-03-16 04:00:00 | SpO2                |  98.75000           | \n",
       "| 4                   | 185777              | 294638              | 2191-03-16          | 2191-03-16 04:00:00 | TempC               |  37.44445           | \n",
       "| 4                   | 185777              | 294638              | 2191-03-16          | 2191-03-16 04:00:00 | DiasBP              |  60.00000           | \n",
       "| 4                   | 185777              | 294638              | 2191-03-16          | 2191-03-16 04:00:00 | MeanBP              |  76.16670           | \n",
       "| 4                   | 185777              | 294638              | 2191-03-16          | 2191-03-16 04:00:00 | SysBP               | 108.50000           | \n",
       "\n",
       "\n"
      ],
      "text/plain": [
       "  subject_id hadm_id icustay_id interval_start_time interval_end_time  \n",
       "1 4          185777  294638     2191-03-16          2191-03-16 04:00:00\n",
       "2 4          185777  294638     2191-03-16          2191-03-16 04:00:00\n",
       "3 4          185777  294638     2191-03-16          2191-03-16 04:00:00\n",
       "4 4          185777  294638     2191-03-16          2191-03-16 04:00:00\n",
       "5 4          185777  294638     2191-03-16          2191-03-16 04:00:00\n",
       "6 4          185777  294638     2191-03-16          2191-03-16 04:00:00\n",
       "  vital_id  mean_vital\n",
       "1 HeartRate  94.75000 \n",
       "2 SpO2       98.75000 \n",
       "3 TempC      37.44445 \n",
       "4 DiasBP     60.00000 \n",
       "5 MeanBP     76.16670 \n",
       "6 SysBP     108.50000 "
      ]
     },
     "metadata": {},
     "output_type": "display_data"
    }
   ],
   "source": [
    "head(mean_vitals)"
   ]
  },
  {
   "cell_type": "code",
   "execution_count": 23,
   "metadata": {},
   "outputs": [
    {
     "name": "stderr",
     "output_type": "stream",
     "text": [
      "Parsed with column specification:\n",
      "cols(\n",
      "  subject_id = col_integer(),\n",
      "  hadm_id = col_integer(),\n",
      "  icustay_id = col_integer(),\n",
      "  window_start = col_datetime(format = \"\"),\n",
      "  window_end = col_datetime(format = \"\"),\n",
      "  intime = col_datetime(format = \"\"),\n",
      "  outtime = col_datetime(format = \"\"),\n",
      "  charttime = col_datetime(format = \"\"),\n",
      "  lab_id = col_character(),\n",
      "  valuenum = col_double()\n",
      ")\n"
     ]
    }
   ],
   "source": [
    "labs_df <- read_csv(paste0(data_path, 'labs_cohort.csv'))"
   ]
  },
  {
   "cell_type": "code",
   "execution_count": 24,
   "metadata": {},
   "outputs": [],
   "source": [
    "labs_dt <- as.data.table(labs_df, key = 'icustay_id')"
   ]
  },
  {
   "cell_type": "code",
   "execution_count": 25,
   "metadata": {},
   "outputs": [],
   "source": [
    "merged_labs <- interval_times_dt %>% \n",
    "                    merge(labs_dt, allow.cartesian = TRUE)"
   ]
  },
  {
   "cell_type": "code",
   "execution_count": 26,
   "metadata": {},
   "outputs": [],
   "source": [
    "mean_labs <- merged_labs[charttime > interval_start_time & charttime <= interval_end_time,\n",
    "                                   .(mean_lab = mean(valuenum)), by = .(subject_id, \n",
    "                                                                          hadm_id, \n",
    "                                                                          icustay_id, \n",
    "                                                                          interval_start_time, \n",
    "                                                                          interval_end_time, \n",
    "                                                                          lab_id)]"
   ]
  },
  {
   "cell_type": "code",
   "execution_count": 27,
   "metadata": {},
   "outputs": [
    {
     "name": "stderr",
     "output_type": "stream",
     "text": [
      "Joining, by = c(\"subject_id\", \"hadm_id\", \"icustay_id\", \"interval_start_time\", \"interval_end_time\", \"meas_id\", \"mean_value\")\n"
     ]
    }
   ],
   "source": [
    "mean_labs <- mean_labs %>% rename(meas_id = lab_id, mean_value = mean_lab)\n",
    "mean_vitals <- mean_vitals %>% rename(meas_id = vital_id, mean_value = mean_vital)\n",
    "\n",
    "mean_labs_vitals <- mean_labs %>% full_join(mean_vitals)"
   ]
  },
  {
   "cell_type": "code",
   "execution_count": 28,
   "metadata": {},
   "outputs": [
    {
     "name": "stderr",
     "output_type": "stream",
     "text": [
      "Joining, by = c(\"subject_id\", \"hadm_id\", \"icustay_id\", \"interval_start_time\", \"interval_end_time\")\n",
      "Joining, by = c(\"subject_id\", \"hadm_id\", \"icustay_id\", \"interval_start_time\", \"interval_end_time\")\n"
     ]
    }
   ],
   "source": [
    "vitals_labs_spread <- mean_labs_vitals %>% \n",
    "                        spread(meas_id, mean_value) %>% \n",
    "                        right_join(interval_times_dt) \n",
    "\n",
    "# Exclude times in which no measurements were made\n",
    "vitals_labs_spread_filt <- vitals_labs_spread %>%\n",
    "                                gather(lab_id, meas_value, ALBUMIN:WBC) %>%\n",
    "                                group_by(subject_id, hadm_id, icustay_id, interval_start_time, interval_end_time) %>%\n",
    "                                summarise(exclude = all(is.na(meas_value))) %>%\n",
    "                                full_join(vitals_labs_spread) %>%\n",
    "                                filter(!exclude)"
   ]
  },
  {
   "cell_type": "code",
   "execution_count": 29,
   "metadata": {
    "scrolled": true
   },
   "outputs": [
    {
     "data": {
      "text/html": [
       "<table>\n",
       "<thead><tr><th scope=col>subject_id</th><th scope=col>hadm_id</th><th scope=col>icustay_id</th><th scope=col>interval_start_time</th><th scope=col>interval_end_time</th><th scope=col>exclude</th><th scope=col>ALBUMIN</th><th scope=col>ANION GAP</th><th scope=col>BANDS</th><th scope=col>BICARBONATE</th><th scope=col>⋯</th><th scope=col>PLATELET</th><th scope=col>POTASSIUM</th><th scope=col>PT</th><th scope=col>PTT</th><th scope=col>RespRate</th><th scope=col>SODIUM</th><th scope=col>SpO2</th><th scope=col>SysBP</th><th scope=col>TempC</th><th scope=col>WBC</th></tr></thead>\n",
       "<tbody>\n",
       "\t<tr><td>4                  </td><td>185777             </td><td>294638             </td><td>2191-03-15 12:00:00</td><td>2191-03-15 16:00:00</td><td>FALSE              </td><td> NA                </td><td>17                 </td><td>NA                 </td><td>24                 </td><td>⋯                  </td><td>207                </td><td>3.1                </td><td>12.3               </td><td>31.3               </td><td>  NA               </td><td>135                </td><td>   NA              </td><td>      NA           </td><td>      NA           </td><td>9.7                </td></tr>\n",
       "\t<tr><td>4                  </td><td>185777             </td><td>294638             </td><td>2191-03-15 20:00:00</td><td>2191-03-16 00:00:00</td><td>FALSE              </td><td> NA                </td><td>NA                 </td><td>NA                 </td><td>NA                 </td><td>⋯                  </td><td> NA                </td><td> NA                </td><td>  NA               </td><td>  NA               </td><td>  NA               </td><td> NA                </td><td>   NA              </td><td>      NA           </td><td>      NA           </td><td> NA                </td></tr>\n",
       "\t<tr><td>4                  </td><td>185777             </td><td>294638             </td><td>2191-03-16 00:00:00</td><td>2191-03-16 04:00:00</td><td>FALSE              </td><td> NA                </td><td>NA                 </td><td>NA                 </td><td>NA                 </td><td>⋯                  </td><td> NA                </td><td> NA                </td><td>  NA               </td><td>  NA               </td><td>  NA               </td><td> NA                </td><td>98.75              </td><td>108.5000           </td><td>37.44445           </td><td> NA                </td></tr>\n",
       "\t<tr><td>4                  </td><td>185777             </td><td>294638             </td><td>2191-03-16 04:00:00</td><td>2191-03-16 08:00:00</td><td>FALSE              </td><td>2.8                </td><td>15                 </td><td>NA                 </td><td>21                 </td><td>⋯                  </td><td>201                </td><td>3.3                </td><td>12.8               </td><td>33.2               </td><td>21.0               </td><td>141                </td><td>98.75              </td><td>102.3333           </td><td>36.66667           </td><td>9.7                </td></tr>\n",
       "\t<tr><td>4                  </td><td>185777             </td><td>294638             </td><td>2191-03-16 08:00:00</td><td>2191-03-16 12:00:00</td><td>FALSE              </td><td> NA                </td><td>NA                 </td><td>NA                 </td><td>NA                 </td><td>⋯                  </td><td> NA                </td><td> NA                </td><td>  NA               </td><td>  NA               </td><td>24.0               </td><td> NA                </td><td>95.75              </td><td>114.7500           </td><td>37.11111           </td><td> NA                </td></tr>\n",
       "\t<tr><td>4                  </td><td>185777             </td><td>294638             </td><td>2191-03-16 12:00:00</td><td>2191-03-16 16:00:00</td><td>FALSE              </td><td> NA                </td><td>NA                 </td><td>NA                 </td><td>NA                 </td><td>⋯                  </td><td> NA                </td><td> NA                </td><td>  NA               </td><td>  NA               </td><td>25.5               </td><td> NA                </td><td>97.00              </td><td>126.5000           </td><td>      NA           </td><td> NA                </td></tr>\n",
       "</tbody>\n",
       "</table>\n"
      ],
      "text/latex": [
       "\\begin{tabular}{r|llllllllllllllllllllllllllllllllll}\n",
       " subject\\_id & hadm\\_id & icustay\\_id & interval\\_start\\_time & interval\\_end\\_time & exclude & ALBUMIN & ANION GAP & BANDS & BICARBONATE & ⋯ & PLATELET & POTASSIUM & PT & PTT & RespRate & SODIUM & SpO2 & SysBP & TempC & WBC\\\\\n",
       "\\hline\n",
       "\t 4                   & 185777              & 294638              & 2191-03-15 12:00:00 & 2191-03-15 16:00:00 & FALSE               &  NA                 & 17                  & NA                  & 24                  & ⋯                   & 207                 & 3.1                 & 12.3                & 31.3                &   NA                & 135                 &    NA               &       NA            &       NA            & 9.7                \\\\\n",
       "\t 4                   & 185777              & 294638              & 2191-03-15 20:00:00 & 2191-03-16 00:00:00 & FALSE               &  NA                 & NA                  & NA                  & NA                  & ⋯                   &  NA                 &  NA                 &   NA                &   NA                &   NA                &  NA                 &    NA               &       NA            &       NA            &  NA                \\\\\n",
       "\t 4                   & 185777              & 294638              & 2191-03-16 00:00:00 & 2191-03-16 04:00:00 & FALSE               &  NA                 & NA                  & NA                  & NA                  & ⋯                   &  NA                 &  NA                 &   NA                &   NA                &   NA                &  NA                 & 98.75               & 108.5000            & 37.44445            &  NA                \\\\\n",
       "\t 4                   & 185777              & 294638              & 2191-03-16 04:00:00 & 2191-03-16 08:00:00 & FALSE               & 2.8                 & 15                  & NA                  & 21                  & ⋯                   & 201                 & 3.3                 & 12.8                & 33.2                & 21.0                & 141                 & 98.75               & 102.3333            & 36.66667            & 9.7                \\\\\n",
       "\t 4                   & 185777              & 294638              & 2191-03-16 08:00:00 & 2191-03-16 12:00:00 & FALSE               &  NA                 & NA                  & NA                  & NA                  & ⋯                   &  NA                 &  NA                 &   NA                &   NA                & 24.0                &  NA                 & 95.75               & 114.7500            & 37.11111            &  NA                \\\\\n",
       "\t 4                   & 185777              & 294638              & 2191-03-16 12:00:00 & 2191-03-16 16:00:00 & FALSE               &  NA                 & NA                  & NA                  & NA                  & ⋯                   &  NA                 &  NA                 &   NA                &   NA                & 25.5                &  NA                 & 97.00               & 126.5000            &       NA            &  NA                \\\\\n",
       "\\end{tabular}\n"
      ],
      "text/markdown": [
       "\n",
       "subject_id | hadm_id | icustay_id | interval_start_time | interval_end_time | exclude | ALBUMIN | ANION GAP | BANDS | BICARBONATE | ⋯ | PLATELET | POTASSIUM | PT | PTT | RespRate | SODIUM | SpO2 | SysBP | TempC | WBC | \n",
       "|---|---|---|---|---|---|\n",
       "| 4                   | 185777              | 294638              | 2191-03-15 12:00:00 | 2191-03-15 16:00:00 | FALSE               |  NA                 | 17                  | NA                  | 24                  | ⋯                   | 207                 | 3.1                 | 12.3                | 31.3                |   NA                | 135                 |    NA               |       NA            |       NA            | 9.7                 | \n",
       "| 4                   | 185777              | 294638              | 2191-03-15 20:00:00 | 2191-03-16 00:00:00 | FALSE               |  NA                 | NA                  | NA                  | NA                  | ⋯                   |  NA                 |  NA                 |   NA                |   NA                |   NA                |  NA                 |    NA               |       NA            |       NA            |  NA                 | \n",
       "| 4                   | 185777              | 294638              | 2191-03-16 00:00:00 | 2191-03-16 04:00:00 | FALSE               |  NA                 | NA                  | NA                  | NA                  | ⋯                   |  NA                 |  NA                 |   NA                |   NA                |   NA                |  NA                 | 98.75               | 108.5000            | 37.44445            |  NA                 | \n",
       "| 4                   | 185777              | 294638              | 2191-03-16 04:00:00 | 2191-03-16 08:00:00 | FALSE               | 2.8                 | 15                  | NA                  | 21                  | ⋯                   | 201                 | 3.3                 | 12.8                | 33.2                | 21.0                | 141                 | 98.75               | 102.3333            | 36.66667            | 9.7                 | \n",
       "| 4                   | 185777              | 294638              | 2191-03-16 08:00:00 | 2191-03-16 12:00:00 | FALSE               |  NA                 | NA                  | NA                  | NA                  | ⋯                   |  NA                 |  NA                 |   NA                |   NA                | 24.0                |  NA                 | 95.75               | 114.7500            | 37.11111            |  NA                 | \n",
       "| 4                   | 185777              | 294638              | 2191-03-16 12:00:00 | 2191-03-16 16:00:00 | FALSE               |  NA                 | NA                  | NA                  | NA                  | ⋯                   |  NA                 |  NA                 |   NA                |   NA                | 25.5                |  NA                 | 97.00               | 126.5000            |       NA            |  NA                 | \n",
       "\n",
       "\n"
      ],
      "text/plain": [
       "  subject_id hadm_id icustay_id interval_start_time interval_end_time   exclude\n",
       "1 4          185777  294638     2191-03-15 12:00:00 2191-03-15 16:00:00 FALSE  \n",
       "2 4          185777  294638     2191-03-15 20:00:00 2191-03-16 00:00:00 FALSE  \n",
       "3 4          185777  294638     2191-03-16 00:00:00 2191-03-16 04:00:00 FALSE  \n",
       "4 4          185777  294638     2191-03-16 04:00:00 2191-03-16 08:00:00 FALSE  \n",
       "5 4          185777  294638     2191-03-16 08:00:00 2191-03-16 12:00:00 FALSE  \n",
       "6 4          185777  294638     2191-03-16 12:00:00 2191-03-16 16:00:00 FALSE  \n",
       "  ALBUMIN ANION GAP BANDS BICARBONATE ⋯ PLATELET POTASSIUM PT   PTT  RespRate\n",
       "1  NA     17        NA    24          ⋯ 207      3.1       12.3 31.3   NA    \n",
       "2  NA     NA        NA    NA          ⋯  NA       NA         NA   NA   NA    \n",
       "3  NA     NA        NA    NA          ⋯  NA       NA         NA   NA   NA    \n",
       "4 2.8     15        NA    21          ⋯ 201      3.3       12.8 33.2 21.0    \n",
       "5  NA     NA        NA    NA          ⋯  NA       NA         NA   NA 24.0    \n",
       "6  NA     NA        NA    NA          ⋯  NA       NA         NA   NA 25.5    \n",
       "  SODIUM SpO2  SysBP    TempC    WBC\n",
       "1 135       NA       NA       NA 9.7\n",
       "2  NA       NA       NA       NA  NA\n",
       "3  NA    98.75 108.5000 37.44445  NA\n",
       "4 141    98.75 102.3333 36.66667 9.7\n",
       "5  NA    95.75 114.7500 37.11111  NA\n",
       "6  NA    97.00 126.5000       NA  NA"
      ]
     },
     "metadata": {},
     "output_type": "display_data"
    }
   ],
   "source": [
    "head(vitals_labs_spread_filt)"
   ]
  },
  {
   "cell_type": "code",
   "execution_count": 30,
   "metadata": {},
   "outputs": [],
   "source": [
    "write_csv(vitals_labs_spread_filt, paste0(data_path, 'vitals_labs_spread_filt.csv'))"
   ]
  },
  {
   "cell_type": "code",
   "execution_count": null,
   "metadata": {},
   "outputs": [],
   "source": []
  }
 ],
 "metadata": {
  "kernelspec": {
   "display_name": "R",
   "language": "R",
   "name": "ir"
  },
  "language_info": {
   "codemirror_mode": "r",
   "file_extension": ".r",
   "mimetype": "text/x-r-source",
   "name": "R",
   "pygments_lexer": "r",
   "version": "3.2.3"
  }
 },
 "nbformat": 4,
 "nbformat_minor": 2
}
