{
 "cells": [
  {
   "cell_type": "code",
   "execution_count": 1,
   "metadata": {},
   "outputs": [
    {
     "name": "stderr",
     "output_type": "stream",
     "text": [
      "Warning message:\n",
      "“replacing previous import by ‘tidyr::%>%’ when loading ‘broom’”Warning message:\n",
      "“replacing previous import by ‘tidyr::gather’ when loading ‘broom’”Warning message:\n",
      "“replacing previous import by ‘tidyr::spread’ when loading ‘broom’”── Attaching packages ─────────────────────────────────────── tidyverse 1.2.1 ──\n",
      "✔ ggplot2 2.2.1     ✔ purrr   0.2.4\n",
      "✔ tibble  1.4.2     ✔ dplyr   0.7.4\n",
      "✔ tidyr   0.8.0     ✔ stringr 1.2.0\n",
      "✔ readr   1.1.1     ✔ forcats 0.2.0\n",
      "── Conflicts ────────────────────────────────────────── tidyverse_conflicts() ──\n",
      "✖ dplyr::filter() masks stats::filter()\n",
      "✖ dplyr::lag()    masks stats::lag()\n"
     ]
    }
   ],
   "source": [
    "library(tidyverse)"
   ]
  },
  {
   "cell_type": "code",
   "execution_count": 2,
   "metadata": {},
   "outputs": [
    {
     "name": "stderr",
     "output_type": "stream",
     "text": [
      "Parsed with column specification:\n",
      "cols(\n",
      "  .default = col_double(),\n",
      "  subject_id = col_integer(),\n",
      "  hadm_id = col_integer(),\n",
      "  icustay_id = col_integer(),\n",
      "  interval_start_time = col_datetime(format = \"\"),\n",
      "  interval_end_time = col_datetime(format = \"\"),\n",
      "  exclude = col_logical(),\n",
      "  BANDS = col_integer()\n",
      ")\n",
      "See spec(...) for full column specifications.\n",
      "Warning message in rbind(names(probs), probs_f):\n",
      "“number of columns of result is not a multiple of vector length (arg 1)”Warning message:\n",
      "“55 parsing failures.\n",
      "row # A tibble: 5 x 5 col     row col   expected               actual           file                      expected   <int> <chr> <chr>                  <chr>            <chr>                     actual 1  2733 BANDS no trailing characters .5               '../data/vitals_labs_spr… file 2  5229 BANDS no trailing characters .333333333333336 '../data/vitals_labs_spr… row 3  8611 BANDS no trailing characters .5               '../data/vitals_labs_spr… col 4 11437 BANDS no trailing characters .2               '../data/vitals_labs_spr… expected 5 11513 BANDS no trailing characters .5               '../data/vitals_labs_spr…\n",
      "... ................. ... ............................................................................... ........ ............................................................................... ...... ............................................................................... .... ............................................................................... ... ............................................................................... ... ............................................................................... ........ ...............................................................................\n",
      "See problems(...) for more details.\n",
      "”Parsed with column specification:\n",
      "cols(\n",
      "  .default = col_integer(),\n",
      "  age = col_double(),\n",
      "  height = col_double(),\n",
      "  weight = col_double(),\n",
      "  qsofa_sysbp_score = col_double(),\n",
      "  qsofa_gcs_score = col_double(),\n",
      "  qsofa_resprate_score = col_double()\n",
      ")\n",
      "See spec(...) for full column specifications.\n",
      "Parsed with column specification:\n",
      "cols(\n",
      "  subject_id = col_integer(),\n",
      "  hadm_id = col_integer(),\n",
      "  icustay_id = col_integer(),\n",
      "  interval_start_time = col_datetime(format = \"\"),\n",
      "  interval_end_time = col_datetime(format = \"\"),\n",
      "  total_IV = col_double(),\n",
      "  discrete_IV = col_integer(),\n",
      "  max_VP = col_double(),\n",
      "  discrete_pressor = col_integer(),\n",
      "  discrete_action = col_integer()\n",
      ")\n",
      "Warning message in rbind(names(probs), probs_f):\n",
      "“number of columns of result is not a multiple of vector length (arg 1)”Warning message:\n",
      "“648 parsing failures.\n",
      "row # A tibble: 5 x 5 col     row col     expected               actual file                    expected   <int> <chr>   <chr>                  <chr>  <chr>                   actual 1 17173 hadm_id no trailing characters e3     '../data/action_df.csv' file 2 17174 hadm_id no trailing characters e3     '../data/action_df.csv' row 3 17175 hadm_id no trailing characters e3     '../data/action_df.csv' col 4 17176 hadm_id no trailing characters e3     '../data/action_df.csv' expected 5 17177 hadm_id no trailing characters e3     '../data/action_df.csv'\n",
      "... ................. ... ..................................................................... ........ ..................................................................... ...... ..................................................................... .... ..................................................................... ... ..................................................................... ... ..................................................................... ........ .....................................................................\n",
      "See problems(...) for more details.\n",
      "”"
     ]
    }
   ],
   "source": [
    "data_path <- '../data/'\n",
    "vitals_labs <- read_csv(paste0(data_path, 'vitals_labs_spread_filt.csv'))\n",
    "demographics <- read_csv(paste0(data_path, 'demographics_cohort.csv'))\n",
    "action_df <- read_csv(paste0(data_path, 'action_df.csv'))"
   ]
  },
  {
   "cell_type": "code",
   "execution_count": 3,
   "metadata": {},
   "outputs": [
    {
     "data": {
      "text/html": [
       "<ol class=list-inline>\n",
       "\t<li>'subject_id'</li>\n",
       "\t<li>'hadm_id'</li>\n",
       "\t<li>'icustay_id'</li>\n",
       "\t<li>'interval_start_time'</li>\n",
       "\t<li>'interval_end_time'</li>\n",
       "\t<li>'exclude'</li>\n",
       "\t<li>'ALBUMIN'</li>\n",
       "\t<li>'ANION GAP'</li>\n",
       "\t<li>'BANDS'</li>\n",
       "\t<li>'BICARBONATE'</li>\n",
       "\t<li>'BILIRUBIN'</li>\n",
       "\t<li>'BUN'</li>\n",
       "\t<li>'CHLORIDE'</li>\n",
       "\t<li>'CREATININE'</li>\n",
       "\t<li>'DiasBP'</li>\n",
       "\t<li>'Glucose'</li>\n",
       "\t<li>'GLUCOSE'</li>\n",
       "\t<li>'HeartRate'</li>\n",
       "\t<li>'HEMATOCRIT'</li>\n",
       "\t<li>'HEMOGLOBIN'</li>\n",
       "\t<li>'INR'</li>\n",
       "\t<li>'LACTATE'</li>\n",
       "\t<li>'MeanBP'</li>\n",
       "\t<li>'PaCO2'</li>\n",
       "\t<li>'PLATELET'</li>\n",
       "\t<li>'POTASSIUM'</li>\n",
       "\t<li>'PT'</li>\n",
       "\t<li>'PTT'</li>\n",
       "\t<li>'RespRate'</li>\n",
       "\t<li>'SODIUM'</li>\n",
       "\t<li>'SpO2'</li>\n",
       "\t<li>'SysBP'</li>\n",
       "\t<li>'TempC'</li>\n",
       "\t<li>'WBC'</li>\n",
       "</ol>\n"
      ],
      "text/latex": [
       "\\begin{enumerate*}\n",
       "\\item 'subject\\_id'\n",
       "\\item 'hadm\\_id'\n",
       "\\item 'icustay\\_id'\n",
       "\\item 'interval\\_start\\_time'\n",
       "\\item 'interval\\_end\\_time'\n",
       "\\item 'exclude'\n",
       "\\item 'ALBUMIN'\n",
       "\\item 'ANION GAP'\n",
       "\\item 'BANDS'\n",
       "\\item 'BICARBONATE'\n",
       "\\item 'BILIRUBIN'\n",
       "\\item 'BUN'\n",
       "\\item 'CHLORIDE'\n",
       "\\item 'CREATININE'\n",
       "\\item 'DiasBP'\n",
       "\\item 'Glucose'\n",
       "\\item 'GLUCOSE'\n",
       "\\item 'HeartRate'\n",
       "\\item 'HEMATOCRIT'\n",
       "\\item 'HEMOGLOBIN'\n",
       "\\item 'INR'\n",
       "\\item 'LACTATE'\n",
       "\\item 'MeanBP'\n",
       "\\item 'PaCO2'\n",
       "\\item 'PLATELET'\n",
       "\\item 'POTASSIUM'\n",
       "\\item 'PT'\n",
       "\\item 'PTT'\n",
       "\\item 'RespRate'\n",
       "\\item 'SODIUM'\n",
       "\\item 'SpO2'\n",
       "\\item 'SysBP'\n",
       "\\item 'TempC'\n",
       "\\item 'WBC'\n",
       "\\end{enumerate*}\n"
      ],
      "text/markdown": [
       "1. 'subject_id'\n",
       "2. 'hadm_id'\n",
       "3. 'icustay_id'\n",
       "4. 'interval_start_time'\n",
       "5. 'interval_end_time'\n",
       "6. 'exclude'\n",
       "7. 'ALBUMIN'\n",
       "8. 'ANION GAP'\n",
       "9. 'BANDS'\n",
       "10. 'BICARBONATE'\n",
       "11. 'BILIRUBIN'\n",
       "12. 'BUN'\n",
       "13. 'CHLORIDE'\n",
       "14. 'CREATININE'\n",
       "15. 'DiasBP'\n",
       "16. 'Glucose'\n",
       "17. 'GLUCOSE'\n",
       "18. 'HeartRate'\n",
       "19. 'HEMATOCRIT'\n",
       "20. 'HEMOGLOBIN'\n",
       "21. 'INR'\n",
       "22. 'LACTATE'\n",
       "23. 'MeanBP'\n",
       "24. 'PaCO2'\n",
       "25. 'PLATELET'\n",
       "26. 'POTASSIUM'\n",
       "27. 'PT'\n",
       "28. 'PTT'\n",
       "29. 'RespRate'\n",
       "30. 'SODIUM'\n",
       "31. 'SpO2'\n",
       "32. 'SysBP'\n",
       "33. 'TempC'\n",
       "34. 'WBC'\n",
       "\n",
       "\n"
      ],
      "text/plain": [
       " [1] \"subject_id\"          \"hadm_id\"             \"icustay_id\"         \n",
       " [4] \"interval_start_time\" \"interval_end_time\"   \"exclude\"            \n",
       " [7] \"ALBUMIN\"             \"ANION GAP\"           \"BANDS\"              \n",
       "[10] \"BICARBONATE\"         \"BILIRUBIN\"           \"BUN\"                \n",
       "[13] \"CHLORIDE\"            \"CREATININE\"          \"DiasBP\"             \n",
       "[16] \"Glucose\"             \"GLUCOSE\"             \"HeartRate\"          \n",
       "[19] \"HEMATOCRIT\"          \"HEMOGLOBIN\"          \"INR\"                \n",
       "[22] \"LACTATE\"             \"MeanBP\"              \"PaCO2\"              \n",
       "[25] \"PLATELET\"            \"POTASSIUM\"           \"PT\"                 \n",
       "[28] \"PTT\"                 \"RespRate\"            \"SODIUM\"             \n",
       "[31] \"SpO2\"                \"SysBP\"               \"TempC\"              \n",
       "[34] \"WBC\"                "
      ]
     },
     "metadata": {},
     "output_type": "display_data"
    }
   ],
   "source": [
    "names(vitals_labs)"
   ]
  },
  {
   "cell_type": "code",
   "execution_count": 4,
   "metadata": {},
   "outputs": [],
   "source": [
    "# Perform LVCF\n",
    "vitals_labs_lvcf <- vitals_labs %>% group_by(subject_id, hadm_id, icustay_id) %>%\n",
    "                        arrange(subject_id, hadm_id, icustay_id, interval_start_time) %>%\n",
    "                        fill(ALBUMIN:WBC)"
   ]
  },
  {
   "cell_type": "code",
   "execution_count": 5,
   "metadata": {},
   "outputs": [
    {
     "name": "stderr",
     "output_type": "stream",
     "text": [
      "Joining, by = c(\"subject_id\", \"hadm_id\", \"icustay_id\")\n"
     ]
    }
   ],
   "source": [
    "data_all <- vitals_labs_lvcf %>% full_join(demographics) %>% ungroup()"
   ]
  },
  {
   "cell_type": "code",
   "execution_count": 6,
   "metadata": {},
   "outputs": [],
   "source": [
    "# Generate the train/test split\n",
    "set.seed(10)\n",
    "ids <- unique(data_all$icustay_id)\n",
    "\n",
    "train_prop <- 0.8\n",
    "num_train <- floor(train_prop * length(ids))\n",
    "\n",
    "train_ids <- sample(ids, num_train)\n",
    "test_ids <- setdiff(ids, train_ids)\n",
    "\n",
    "# Proportion validation - of the test data\n",
    "val_prop <- 0.5 # 0.5 of 0.2 = 0.1 total\n",
    "num_val <- floor(val_prop * length(test_ids))\n",
    "val_ids <- sample(test_ids, num_val)\n",
    "test_ids <- setdiff(test_ids, val_ids)\n",
    "\n",
    "train_id_df <- data.frame(icustay_id = train_ids)\n",
    "val_id_df <- data.frame(icustay_id = val_ids)\n",
    "test_id_df <- data.frame(icustay_id = test_ids)"
   ]
  },
  {
   "cell_type": "code",
   "execution_count": 7,
   "metadata": {},
   "outputs": [
    {
     "name": "stderr",
     "output_type": "stream",
     "text": [
      "Joining, by = \"icustay_id\"\n",
      "Joining, by = \"icustay_id\"\n",
      "Joining, by = \"icustay_id\"\n"
     ]
    }
   ],
   "source": [
    "train_data <- data_all %>% inner_join(train_id_df) %>% ungroup()\n",
    "val_data <- data_all %>% inner_join(val_id_df) %>% ungroup()\n",
    "test_data <- data_all %>% inner_join(test_id_df) %>% ungroup()"
   ]
  },
  {
   "cell_type": "code",
   "execution_count": 8,
   "metadata": {},
   "outputs": [
    {
     "data": {
      "text/html": [
       "<ol class=list-inline>\n",
       "\t<li>154525</li>\n",
       "\t<li>52</li>\n",
       "</ol>\n"
      ],
      "text/latex": [
       "\\begin{enumerate*}\n",
       "\\item 154525\n",
       "\\item 52\n",
       "\\end{enumerate*}\n"
      ],
      "text/markdown": [
       "1. 154525\n",
       "2. 52\n",
       "\n",
       "\n"
      ],
      "text/plain": [
       "[1] 154525     52"
      ]
     },
     "metadata": {},
     "output_type": "display_data"
    },
    {
     "data": {
      "text/html": [
       "<ol class=list-inline>\n",
       "\t<li>19659</li>\n",
       "\t<li>52</li>\n",
       "</ol>\n"
      ],
      "text/latex": [
       "\\begin{enumerate*}\n",
       "\\item 19659\n",
       "\\item 52\n",
       "\\end{enumerate*}\n"
      ],
      "text/markdown": [
       "1. 19659\n",
       "2. 52\n",
       "\n",
       "\n"
      ],
      "text/plain": [
       "[1] 19659    52"
      ]
     },
     "metadata": {},
     "output_type": "display_data"
    },
    {
     "data": {
      "text/html": [
       "<ol class=list-inline>\n",
       "\t<li>19826</li>\n",
       "\t<li>52</li>\n",
       "</ol>\n"
      ],
      "text/latex": [
       "\\begin{enumerate*}\n",
       "\\item 19826\n",
       "\\item 52\n",
       "\\end{enumerate*}\n"
      ],
      "text/markdown": [
       "1. 19826\n",
       "2. 52\n",
       "\n",
       "\n"
      ],
      "text/plain": [
       "[1] 19826    52"
      ]
     },
     "metadata": {},
     "output_type": "display_data"
    }
   ],
   "source": [
    "dim(train_data)\n",
    "dim(val_data)\n",
    "dim(test_data)"
   ]
  },
  {
   "cell_type": "code",
   "execution_count": 10,
   "metadata": {},
   "outputs": [
    {
     "name": "stderr",
     "output_type": "stream",
     "text": [
      "Loading required package: lattice\n",
      "\n",
      "Attaching package: ‘caret’\n",
      "\n",
      "The following object is masked from ‘package:purrr’:\n",
      "\n",
      "    lift\n",
      "\n"
     ]
    }
   ],
   "source": [
    "library(caret)"
   ]
  },
  {
   "cell_type": "code",
   "execution_count": 11,
   "metadata": {},
   "outputs": [],
   "source": [
    "feature_names <- setdiff(c(names(vitals_labs_lvcf), names(demographics)),\n",
    "                         c('subject_id', \n",
    "                           'hadm_id', \n",
    "                           'icustay_id', \n",
    "                           'interval_start_time',\n",
    "                           'interval_end_time',\n",
    "                           'exclude'))\n",
    "train_features <- train_data[, feature_names]\n",
    "val_features <- val_data[, feature_names]\n",
    "test_features <- test_data[, feature_names]"
   ]
  },
  {
   "cell_type": "code",
   "execution_count": 12,
   "metadata": {},
   "outputs": [],
   "source": [
    "# Preprocess the data\n",
    "\n",
    "preprocessor <- preProcess(train_features, method = c('center', 'scale', 'medianImpute'))\n",
    "train_proc <- predict(preprocessor, train_features)\n",
    "val_proc <- predict(preprocessor, val_features)\n",
    "test_proc <- predict(preprocessor, test_features)"
   ]
  },
  {
   "cell_type": "code",
   "execution_count": 14,
   "metadata": {},
   "outputs": [],
   "source": [
    "id_vars <- c('subject_id', \n",
    "               'hadm_id', \n",
    "               'icustay_id', \n",
    "               'interval_start_time',\n",
    "               'interval_end_time')\n",
    "\n",
    "# train_out <- cbind(train_proc, train_data[, !(names(train_data) %in% names(train_proc))])\n",
    "\n",
    "# test_out <- cbind(test_proc, test_data[, !(names(test_data) %in% names(test_proc))])\n",
    "\n",
    "train_out <- cbind(train_data[, !(names(train_data) %in% names(train_proc))], train_proc)\n",
    "val_out <- cbind(val_data[, !(names(val_data) %in% names(val_proc))], val_proc)\n",
    "test_out <- cbind(test_data[, !(names(test_data) %in% names(test_proc))], test_proc)\n",
    "\n",
    "\n",
    "# train_proc[, id_features] <- train_data[, id_vars]\n",
    "# test_proc[ ,id_features] <- test_data[, id_vars]\n",
    "# head(train_proc, id_features)"
   ]
  },
  {
   "cell_type": "code",
   "execution_count": 15,
   "metadata": {},
   "outputs": [
    {
     "data": {
      "text/html": [
       "<table>\n",
       "<thead><tr><th scope=col>subject_id</th><th scope=col>hadm_id</th><th scope=col>icustay_id</th><th scope=col>interval_start_time</th><th scope=col>interval_end_time</th><th scope=col>exclude</th><th scope=col>ALBUMIN</th><th scope=col>ANION GAP</th><th scope=col>BANDS</th><th scope=col>BICARBONATE</th><th scope=col>⋯</th><th scope=col>vent</th><th scope=col>sofa</th><th scope=col>lods</th><th scope=col>sirs</th><th scope=col>qsofa</th><th scope=col>qsofa_sysbp_score</th><th scope=col>qsofa_gcs_score</th><th scope=col>qsofa_resprate_score</th><th scope=col>elixhauser_hospital</th><th scope=col>blood_culture_positive</th></tr></thead>\n",
       "<tbody>\n",
       "\t<tr><td>4                  </td><td>185777             </td><td>294638             </td><td>2191-03-15 12:00:00</td><td>2191-03-15 16:00:00</td><td>FALSE              </td><td>-0.05746277        </td><td>0.7674253          </td><td>-0.2986458         </td><td> 0.04208446        </td><td>⋯                  </td><td>-1.169914          </td><td>-0.4491586         </td><td>-1.431576          </td><td>-1.023693          </td><td>0.1715143          </td><td>0.5402321          </td><td>-0.5779918         </td><td>0.3918894          </td><td>1.006947           </td><td>1.458774           </td></tr>\n",
       "\t<tr><td>4                  </td><td>185777             </td><td>294638             </td><td>2191-03-15 20:00:00</td><td>2191-03-16 00:00:00</td><td>FALSE              </td><td>-0.05746277        </td><td>0.7674253          </td><td>-0.2986458         </td><td> 0.04208446        </td><td>⋯                  </td><td>-1.169914          </td><td>-0.4491586         </td><td>-1.431576          </td><td>-1.023693          </td><td>0.1715143          </td><td>0.5402321          </td><td>-0.5779918         </td><td>0.3918894          </td><td>1.006947           </td><td>1.458774           </td></tr>\n",
       "\t<tr><td>4                  </td><td>185777             </td><td>294638             </td><td>2191-03-16 00:00:00</td><td>2191-03-16 04:00:00</td><td>FALSE              </td><td>-0.05746277        </td><td>0.7674253          </td><td>-0.2986458         </td><td> 0.04208446        </td><td>⋯                  </td><td>-1.169914          </td><td>-0.4491586         </td><td>-1.431576          </td><td>-1.023693          </td><td>0.1715143          </td><td>0.5402321          </td><td>-0.5779918         </td><td>0.3918894          </td><td>1.006947           </td><td>1.458774           </td></tr>\n",
       "\t<tr><td>4                  </td><td>185777             </td><td>294638             </td><td>2191-03-16 04:00:00</td><td>2191-03-16 08:00:00</td><td>FALSE              </td><td>-0.48527552        </td><td>0.2709276          </td><td>-0.2986458         </td><td>-0.59964321        </td><td>⋯                  </td><td>-1.169914          </td><td>-0.4491586         </td><td>-1.431576          </td><td>-1.023693          </td><td>0.1715143          </td><td>0.5402321          </td><td>-0.5779918         </td><td>0.3918894          </td><td>1.006947           </td><td>1.458774           </td></tr>\n",
       "\t<tr><td>4                  </td><td>185777             </td><td>294638             </td><td>2191-03-16 08:00:00</td><td>2191-03-16 12:00:00</td><td>FALSE              </td><td>-0.48527552        </td><td>0.2709276          </td><td>-0.2986458         </td><td>-0.59964321        </td><td>⋯                  </td><td>-1.169914          </td><td>-0.4491586         </td><td>-1.431576          </td><td>-1.023693          </td><td>0.1715143          </td><td>0.5402321          </td><td>-0.5779918         </td><td>0.3918894          </td><td>1.006947           </td><td>1.458774           </td></tr>\n",
       "\t<tr><td>4                  </td><td>185777             </td><td>294638             </td><td>2191-03-16 12:00:00</td><td>2191-03-16 16:00:00</td><td>FALSE              </td><td>-0.48527552        </td><td>0.2709276          </td><td>-0.2986458         </td><td>-0.59964321        </td><td>⋯                  </td><td>-1.169914          </td><td>-0.4491586         </td><td>-1.431576          </td><td>-1.023693          </td><td>0.1715143          </td><td>0.5402321          </td><td>-0.5779918         </td><td>0.3918894          </td><td>1.006947           </td><td>1.458774           </td></tr>\n",
       "</tbody>\n",
       "</table>\n"
      ],
      "text/latex": [
       "\\begin{tabular}{r|llllllllllllllllllllllllllllllllllllllllllllllllllll}\n",
       " subject\\_id & hadm\\_id & icustay\\_id & interval\\_start\\_time & interval\\_end\\_time & exclude & ALBUMIN & ANION GAP & BANDS & BICARBONATE & ⋯ & vent & sofa & lods & sirs & qsofa & qsofa\\_sysbp\\_score & qsofa\\_gcs\\_score & qsofa\\_resprate\\_score & elixhauser\\_hospital & blood\\_culture\\_positive\\\\\n",
       "\\hline\n",
       "\t 4                   & 185777              & 294638              & 2191-03-15 12:00:00 & 2191-03-15 16:00:00 & FALSE               & -0.05746277         & 0.7674253           & -0.2986458          &  0.04208446         & ⋯                   & -1.169914           & -0.4491586          & -1.431576           & -1.023693           & 0.1715143           & 0.5402321           & -0.5779918          & 0.3918894           & 1.006947            & 1.458774           \\\\\n",
       "\t 4                   & 185777              & 294638              & 2191-03-15 20:00:00 & 2191-03-16 00:00:00 & FALSE               & -0.05746277         & 0.7674253           & -0.2986458          &  0.04208446         & ⋯                   & -1.169914           & -0.4491586          & -1.431576           & -1.023693           & 0.1715143           & 0.5402321           & -0.5779918          & 0.3918894           & 1.006947            & 1.458774           \\\\\n",
       "\t 4                   & 185777              & 294638              & 2191-03-16 00:00:00 & 2191-03-16 04:00:00 & FALSE               & -0.05746277         & 0.7674253           & -0.2986458          &  0.04208446         & ⋯                   & -1.169914           & -0.4491586          & -1.431576           & -1.023693           & 0.1715143           & 0.5402321           & -0.5779918          & 0.3918894           & 1.006947            & 1.458774           \\\\\n",
       "\t 4                   & 185777              & 294638              & 2191-03-16 04:00:00 & 2191-03-16 08:00:00 & FALSE               & -0.48527552         & 0.2709276           & -0.2986458          & -0.59964321         & ⋯                   & -1.169914           & -0.4491586          & -1.431576           & -1.023693           & 0.1715143           & 0.5402321           & -0.5779918          & 0.3918894           & 1.006947            & 1.458774           \\\\\n",
       "\t 4                   & 185777              & 294638              & 2191-03-16 08:00:00 & 2191-03-16 12:00:00 & FALSE               & -0.48527552         & 0.2709276           & -0.2986458          & -0.59964321         & ⋯                   & -1.169914           & -0.4491586          & -1.431576           & -1.023693           & 0.1715143           & 0.5402321           & -0.5779918          & 0.3918894           & 1.006947            & 1.458774           \\\\\n",
       "\t 4                   & 185777              & 294638              & 2191-03-16 12:00:00 & 2191-03-16 16:00:00 & FALSE               & -0.48527552         & 0.2709276           & -0.2986458          & -0.59964321         & ⋯                   & -1.169914           & -0.4491586          & -1.431576           & -1.023693           & 0.1715143           & 0.5402321           & -0.5779918          & 0.3918894           & 1.006947            & 1.458774           \\\\\n",
       "\\end{tabular}\n"
      ],
      "text/markdown": [
       "\n",
       "subject_id | hadm_id | icustay_id | interval_start_time | interval_end_time | exclude | ALBUMIN | ANION GAP | BANDS | BICARBONATE | ⋯ | vent | sofa | lods | sirs | qsofa | qsofa_sysbp_score | qsofa_gcs_score | qsofa_resprate_score | elixhauser_hospital | blood_culture_positive | \n",
       "|---|---|---|---|---|---|\n",
       "| 4                   | 185777              | 294638              | 2191-03-15 12:00:00 | 2191-03-15 16:00:00 | FALSE               | -0.05746277         | 0.7674253           | -0.2986458          |  0.04208446         | ⋯                   | -1.169914           | -0.4491586          | -1.431576           | -1.023693           | 0.1715143           | 0.5402321           | -0.5779918          | 0.3918894           | 1.006947            | 1.458774            | \n",
       "| 4                   | 185777              | 294638              | 2191-03-15 20:00:00 | 2191-03-16 00:00:00 | FALSE               | -0.05746277         | 0.7674253           | -0.2986458          |  0.04208446         | ⋯                   | -1.169914           | -0.4491586          | -1.431576           | -1.023693           | 0.1715143           | 0.5402321           | -0.5779918          | 0.3918894           | 1.006947            | 1.458774            | \n",
       "| 4                   | 185777              | 294638              | 2191-03-16 00:00:00 | 2191-03-16 04:00:00 | FALSE               | -0.05746277         | 0.7674253           | -0.2986458          |  0.04208446         | ⋯                   | -1.169914           | -0.4491586          | -1.431576           | -1.023693           | 0.1715143           | 0.5402321           | -0.5779918          | 0.3918894           | 1.006947            | 1.458774            | \n",
       "| 4                   | 185777              | 294638              | 2191-03-16 04:00:00 | 2191-03-16 08:00:00 | FALSE               | -0.48527552         | 0.2709276           | -0.2986458          | -0.59964321         | ⋯                   | -1.169914           | -0.4491586          | -1.431576           | -1.023693           | 0.1715143           | 0.5402321           | -0.5779918          | 0.3918894           | 1.006947            | 1.458774            | \n",
       "| 4                   | 185777              | 294638              | 2191-03-16 08:00:00 | 2191-03-16 12:00:00 | FALSE               | -0.48527552         | 0.2709276           | -0.2986458          | -0.59964321         | ⋯                   | -1.169914           | -0.4491586          | -1.431576           | -1.023693           | 0.1715143           | 0.5402321           | -0.5779918          | 0.3918894           | 1.006947            | 1.458774            | \n",
       "| 4                   | 185777              | 294638              | 2191-03-16 12:00:00 | 2191-03-16 16:00:00 | FALSE               | -0.48527552         | 0.2709276           | -0.2986458          | -0.59964321         | ⋯                   | -1.169914           | -0.4491586          | -1.431576           | -1.023693           | 0.1715143           | 0.5402321           | -0.5779918          | 0.3918894           | 1.006947            | 1.458774            | \n",
       "\n",
       "\n"
      ],
      "text/plain": [
       "  subject_id hadm_id icustay_id interval_start_time interval_end_time   exclude\n",
       "1 4          185777  294638     2191-03-15 12:00:00 2191-03-15 16:00:00 FALSE  \n",
       "2 4          185777  294638     2191-03-15 20:00:00 2191-03-16 00:00:00 FALSE  \n",
       "3 4          185777  294638     2191-03-16 00:00:00 2191-03-16 04:00:00 FALSE  \n",
       "4 4          185777  294638     2191-03-16 04:00:00 2191-03-16 08:00:00 FALSE  \n",
       "5 4          185777  294638     2191-03-16 08:00:00 2191-03-16 12:00:00 FALSE  \n",
       "6 4          185777  294638     2191-03-16 12:00:00 2191-03-16 16:00:00 FALSE  \n",
       "  ALBUMIN     ANION GAP BANDS      BICARBONATE ⋯ vent      sofa       lods     \n",
       "1 -0.05746277 0.7674253 -0.2986458  0.04208446 ⋯ -1.169914 -0.4491586 -1.431576\n",
       "2 -0.05746277 0.7674253 -0.2986458  0.04208446 ⋯ -1.169914 -0.4491586 -1.431576\n",
       "3 -0.05746277 0.7674253 -0.2986458  0.04208446 ⋯ -1.169914 -0.4491586 -1.431576\n",
       "4 -0.48527552 0.2709276 -0.2986458 -0.59964321 ⋯ -1.169914 -0.4491586 -1.431576\n",
       "5 -0.48527552 0.2709276 -0.2986458 -0.59964321 ⋯ -1.169914 -0.4491586 -1.431576\n",
       "6 -0.48527552 0.2709276 -0.2986458 -0.59964321 ⋯ -1.169914 -0.4491586 -1.431576\n",
       "  sirs      qsofa     qsofa_sysbp_score qsofa_gcs_score qsofa_resprate_score\n",
       "1 -1.023693 0.1715143 0.5402321         -0.5779918      0.3918894           \n",
       "2 -1.023693 0.1715143 0.5402321         -0.5779918      0.3918894           \n",
       "3 -1.023693 0.1715143 0.5402321         -0.5779918      0.3918894           \n",
       "4 -1.023693 0.1715143 0.5402321         -0.5779918      0.3918894           \n",
       "5 -1.023693 0.1715143 0.5402321         -0.5779918      0.3918894           \n",
       "6 -1.023693 0.1715143 0.5402321         -0.5779918      0.3918894           \n",
       "  elixhauser_hospital blood_culture_positive\n",
       "1 1.006947            1.458774              \n",
       "2 1.006947            1.458774              \n",
       "3 1.006947            1.458774              \n",
       "4 1.006947            1.458774              \n",
       "5 1.006947            1.458774              \n",
       "6 1.006947            1.458774              "
      ]
     },
     "metadata": {},
     "output_type": "display_data"
    }
   ],
   "source": [
    "head(train_out)"
   ]
  },
  {
   "cell_type": "code",
   "execution_count": 23,
   "metadata": {},
   "outputs": [
    {
     "data": {
      "text/html": [
       "<ol class=list-inline>\n",
       "\t<li>154525</li>\n",
       "\t<li>52</li>\n",
       "</ol>\n"
      ],
      "text/latex": [
       "\\begin{enumerate*}\n",
       "\\item 154525\n",
       "\\item 52\n",
       "\\end{enumerate*}\n"
      ],
      "text/markdown": [
       "1. 154525\n",
       "2. 52\n",
       "\n",
       "\n"
      ],
      "text/plain": [
       "[1] 154525     52"
      ]
     },
     "metadata": {},
     "output_type": "display_data"
    },
    {
     "data": {
      "text/html": [
       "<ol class=list-inline>\n",
       "\t<li>19659</li>\n",
       "\t<li>52</li>\n",
       "</ol>\n"
      ],
      "text/latex": [
       "\\begin{enumerate*}\n",
       "\\item 19659\n",
       "\\item 52\n",
       "\\end{enumerate*}\n"
      ],
      "text/markdown": [
       "1. 19659\n",
       "2. 52\n",
       "\n",
       "\n"
      ],
      "text/plain": [
       "[1] 19659    52"
      ]
     },
     "metadata": {},
     "output_type": "display_data"
    },
    {
     "data": {
      "text/html": [
       "<ol class=list-inline>\n",
       "\t<li>19826</li>\n",
       "\t<li>52</li>\n",
       "</ol>\n"
      ],
      "text/latex": [
       "\\begin{enumerate*}\n",
       "\\item 19826\n",
       "\\item 52\n",
       "\\end{enumerate*}\n"
      ],
      "text/markdown": [
       "1. 19826\n",
       "2. 52\n",
       "\n",
       "\n"
      ],
      "text/plain": [
       "[1] 19826    52"
      ]
     },
     "metadata": {},
     "output_type": "display_data"
    }
   ],
   "source": [
    "dim(train_out)\n",
    "dim(val_out)\n",
    "dim(test_out)"
   ]
  },
  {
   "cell_type": "code",
   "execution_count": 24,
   "metadata": {},
   "outputs": [],
   "source": [
    "write_csv(train_out, paste0(data_path, 'train_data.csv'))\n",
    "write_csv(val_out, paste0(data_path, 'val_data.csv'))\n",
    "write_csv(test_out, paste0(data_path, 'test_data.csv'))"
   ]
  }
 ],
 "metadata": {
  "kernelspec": {
   "display_name": "R",
   "language": "R",
   "name": "ir"
  },
  "language_info": {
   "codemirror_mode": "r",
   "file_extension": ".r",
   "mimetype": "text/x-r-source",
   "name": "R",
   "pygments_lexer": "r",
   "version": "3.2.3"
  }
 },
 "nbformat": 4,
 "nbformat_minor": 2
}
