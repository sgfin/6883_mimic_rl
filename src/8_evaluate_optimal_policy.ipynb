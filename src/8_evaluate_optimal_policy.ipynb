{
 "cells": [
  {
   "cell_type": "code",
   "execution_count": 14,
   "metadata": {
    "collapsed": true
   },
   "outputs": [],
   "source": [
    "import pandas as pd\n",
    "import numpy as np\n",
    "import sklearn as sk\n",
    "import os\n",
    "import torch\n",
    "import copy\n",
    "from torch.utils.data import Dataset, DataLoader\n",
    "\n",
    "from sklearn.externals import joblib\n",
    "\n",
    "from functools import reduce\n",
    "from util import *"
   ]
  },
  {
   "cell_type": "code",
   "execution_count": 2,
   "metadata": {
    "collapsed": true
   },
   "outputs": [],
   "source": [
    "# Original\n",
    "exp_name = 'exp2'\n",
    "checkpoints_path = os.path.join('../checkpoints/', exp_name)\n",
    "selected_model = os.path.join(checkpoints_path, 'action_dim_25batch_size_512_drop_prob_0.0_gamma_0.9_hidden_dim_1024_lr_0.0001_num_epochs_300_num_hidden_5_option_linear_state_dim_46_target_update_10_use_scheduler_False_time_9895668.chk')\n",
    "\n",
    "data_path = '../data'\n",
    "data_dict = joblib.load(os.path.join(data_path, 'data_dict.pkl'))"
   ]
  },
  {
   "cell_type": "code",
   "execution_count": 24,
   "metadata": {
    "collapsed": true
   },
   "outputs": [],
   "source": [
    "# Sam\n",
    "exp_name = 'exp3'\n",
    "checkpoints_path = os.path.join('../checkpoints/', exp_name)\n",
    "selected_model = os.path.join(checkpoints_path, 'num_hidden_5target_update_10_option_linear_drop_prob_0.0_state_dim_46_use_scheduler_False_batch_size_512_lr_0.0001_hidden_dim_1024_num_epochs_300_gamma_0.9_action_dim_25_time_01.chk')\n",
    "\n",
    "data_path = '../data'\n",
    "data_dict = joblib.load(os.path.join(data_path, 'data_dict.pkl'))"
   ]
  },
  {
   "cell_type": "code",
   "execution_count": 17,
   "metadata": {
    "collapsed": true
   },
   "outputs": [],
   "source": [
    "subset = 'val' # 'train'\n",
    "final_df_test = pd.read_csv(os.path.join(data_path, subset + '_state_action_reward_df.csv'))"
   ]
  },
  {
   "cell_type": "code",
   "execution_count": 18,
   "metadata": {},
   "outputs": [
    {
     "name": "stdout",
     "output_type": "stream",
     "text": [
      "True\n"
     ]
    }
   ],
   "source": [
    "use_gpu = torch.cuda.is_available()\n",
    "print(use_gpu)"
   ]
  },
  {
   "cell_type": "code",
   "execution_count": 19,
   "metadata": {
    "collapsed": true
   },
   "outputs": [],
   "source": [
    "eval_dataset = evaluation_Dataset(data_dict[subset]['X'], \n",
    "                                  data_dict[subset]['action']\n",
    "                                 )"
   ]
  },
  {
   "cell_type": "code",
   "execution_count": 20,
   "metadata": {
    "collapsed": true
   },
   "outputs": [],
   "source": [
    "eval_loader = DataLoader(eval_dataset, \n",
    "                            512,\n",
    "                            shuffle = False,\n",
    "                            num_workers = 32\n",
    "                         )"
   ]
  },
  {
   "cell_type": "code",
   "execution_count": 21,
   "metadata": {
    "collapsed": true
   },
   "outputs": [],
   "source": [
    "def evaluate_model(model, the_loader, use_gpu = False):\n",
    "    \n",
    "    model.train(False)\n",
    "    i = 0\n",
    "    for states, actions in the_loader:\n",
    "        i = i + 1\n",
    "        batch_size = states.shape[0]\n",
    "        \n",
    "        if use_gpu:\n",
    "            states, actions = Variable(states.cuda(async = True)), \\\n",
    "                                Variable(actions.cuda(async = True))\n",
    "                \n",
    "        else:\n",
    "            states, actions = Variable(states), \\\n",
    "                                Variable(actions)\n",
    "                \n",
    "        outputs = model(states)\n",
    "        best_actions = torch.max(outputs, 1)[1].data\n",
    "        \n",
    "        if use_gpu:\n",
    "            # Get Q(s, a)\n",
    "            current_state_values = outputs[torch.LongTensor(np.arange(batch_size).tolist()).cuda(),\n",
    "                                           actions.data]\n",
    "            # Get Q(s, a*)\n",
    "            best_policy_values = outputs[torch.LongTensor(np.arange(batch_size).tolist()).cuda(),\n",
    "                                        best_actions]\n",
    "                \n",
    "        else:\n",
    "            # Get Q(s, a)\n",
    "            current_state_values = outputs[torch.LongTensor(np.arange(batch_size)),\n",
    "                                           actions.data]\n",
    "            # Get Q(s, a*)\n",
    "            best_policy_values = outputs[torch.LongTensor(np.arange(batch_size)),\n",
    "                                                   best_actions]\n",
    "            \n",
    "        if i == 1:\n",
    "            predicted_state_action_values_list = current_state_values\n",
    "            predicted_state_action_values_list_best = best_policy_values\n",
    "            best_actions_list = best_actions\n",
    "        else:\n",
    "            predicted_state_action_values_list = torch.cat((predicted_state_action_values_list, \n",
    "                                                            current_state_values))\n",
    "            predicted_state_action_values_list_best = torch.cat((predicted_state_action_values_list_best, \n",
    "                                                            best_policy_values))\n",
    "            best_actions_list = torch.cat((best_actions_list, \n",
    "                                            best_actions))\n",
    "    \n",
    "    return predicted_state_action_values_list, predicted_state_action_values_list_best, best_actions_list"
   ]
  },
  {
   "cell_type": "code",
   "execution_count": 22,
   "metadata": {
    "collapsed": true
   },
   "outputs": [],
   "source": [
    "# Hardcoded selected model for now\n",
    "config = {\n",
    "          'state_dim' : data_dict['train']['X'].shape[1],\n",
    "          'action_dim' : 25,\n",
    "          'gamma' : 0.9,\n",
    "          'batch_size' : 512,\n",
    "          'lr' : 1e-4,\n",
    "          'num_epochs' : 300,\n",
    "          'hidden_dim' : 1024,\n",
    "          'num_hidden' : 5,\n",
    "          'drop_prob' : 0.0,\n",
    "          'target_update': 10,\n",
    "          'option' : 'linear',\n",
    "          'use_scheduler' : False\n",
    "         }"
   ]
  },
  {
   "cell_type": "code",
   "execution_count": 25,
   "metadata": {
    "collapsed": true,
    "scrolled": true
   },
   "outputs": [],
   "source": [
    "model = dueling_net(D_in = config['state_dim'], \n",
    "                    H = config['hidden_dim'], \n",
    "                    D_out = config['action_dim'],\n",
    "                    drop_prob = config['drop_prob'],\n",
    "                    num_hidden = config['num_hidden'],\n",
    "                    option = config['option']\n",
    "                   )\n",
    "\n",
    "if use_gpu:\n",
    "    model = model.cuda()\n",
    "\n",
    "if use_gpu:\n",
    "    model.load_state_dict(torch.load(selected_model))\n",
    "else:\n",
    "    model.load_state_dict(torch.load(selected_model, map_location=lambda storage, loc: storage))\n",
    "\n",
    "predicted_Q_physician, predicted_Q_optimal, best_actions_list = evaluate_model(model, \n",
    "                                                                               eval_loader, \n",
    "                                                                               use_gpu)"
   ]
  },
  {
   "cell_type": "code",
   "execution_count": 26,
   "metadata": {},
   "outputs": [
    {
     "data": {
      "text/plain": [
       "\n",
       "  6\n",
       "  6\n",
       "  6\n",
       " ⋮ \n",
       " 18\n",
       "  3\n",
       "  3\n",
       "[torch.cuda.LongTensor of size 19690 (GPU 0)]"
      ]
     },
     "execution_count": 26,
     "metadata": {},
     "output_type": "execute_result"
    }
   ],
   "source": [
    "best_actions_list"
   ]
  },
  {
   "cell_type": "code",
   "execution_count": null,
   "metadata": {
    "collapsed": true
   },
   "outputs": [],
   "source": []
  },
  {
   "cell_type": "code",
   "execution_count": 28,
   "metadata": {
    "collapsed": true
   },
   "outputs": [],
   "source": [
    "final_df_test['predicted_Q_physician'] = predicted_Q_physician.data.cpu().numpy()\n",
    "final_df_test['predicted_Q_optimal'] = predicted_Q_optimal.data.cpu().numpy()\n",
    "final_df_test['best_action'] = best_actions_list.cpu().numpy()"
   ]
  },
  {
   "cell_type": "code",
   "execution_count": 29,
   "metadata": {
    "collapsed": true
   },
   "outputs": [],
   "source": [
    "final_df_test.to_csv(os.path.join(data_path, 'predicted_Q_df_' + subset + '.csv'))"
   ]
  },
  {
   "cell_type": "code",
   "execution_count": null,
   "metadata": {
    "collapsed": true
   },
   "outputs": [],
   "source": []
  }
 ],
 "metadata": {
  "kernelspec": {
   "display_name": "Python 3",
   "language": "python",
   "name": "python3"
  },
  "language_info": {
   "codemirror_mode": {
    "name": "ipython",
    "version": 3
   },
   "file_extension": ".py",
   "mimetype": "text/x-python",
   "name": "python",
   "nbconvert_exporter": "python",
   "pygments_lexer": "ipython3",
   "version": "3.6.3"
  }
 },
 "nbformat": 4,
 "nbformat_minor": 2
}
