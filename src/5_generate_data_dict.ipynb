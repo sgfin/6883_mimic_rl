{
 "cells": [
  {
   "cell_type": "code",
   "execution_count": 1,
   "metadata": {
    "collapsed": true
   },
   "outputs": [],
   "source": [
    "import pandas as pd\n",
    "import numpy as np\n",
    "import sklearn as sk\n",
    "import os\n",
    "\n",
    "from sklearn.feature_extraction import DictVectorizer\n",
    "from sklearn.externals import joblib"
   ]
  },
  {
   "cell_type": "code",
   "execution_count": 2,
   "metadata": {
    "collapsed": true
   },
   "outputs": [],
   "source": [
    "data_path = '../data/'\n",
    "\n",
    "train_df = pd.read_csv(os.path.join(data_path, 'train_state_action_reward_df.csv'))\n",
    "val_df = pd.read_csv(os.path.join(data_path, 'val_state_action_reward_df.csv'))\n",
    "test_df = pd.read_csv(os.path.join(data_path, 'test_state_action_reward_df.csv'))"
   ]
  },
  {
   "cell_type": "code",
   "execution_count": 3,
   "metadata": {
    "collapsed": true
   },
   "outputs": [],
   "source": [
    "feature_names = ['ALBUMIN', 'ANION GAP', 'BANDS', 'BICARBONATE',\n",
    "                   'BILIRUBIN', 'BUN', 'CHLORIDE', 'CREATININE', 'DiasBP', 'Glucose',\n",
    "                   'GLUCOSE', 'HeartRate', 'HEMATOCRIT', 'HEMOGLOBIN', 'INR', 'LACTATE',\n",
    "                   'MeanBP', 'PaCO2', 'PLATELET', 'POTASSIUM', 'PT', 'PTT', 'RespRate',\n",
    "                   'SODIUM', 'SpO2', 'SysBP', 'TempC', 'WBC', 'age', 'is_male',\n",
    "                   'race_white', 'race_black', 'race_hispanic', 'race_other', 'height',\n",
    "                   'weight', 'vent', 'sofa', 'lods', 'sirs', 'qsofa', 'qsofa_sysbp_score',\n",
    "                   'qsofa_gcs_score', 'qsofa_resprate_score', 'elixhauser_hospital',\n",
    "                   'blood_culture_positive']"
   ]
  },
  {
   "cell_type": "code",
   "execution_count": 4,
   "metadata": {
    "collapsed": true
   },
   "outputs": [],
   "source": [
    "feature_df_train = train_df[feature_names]\n",
    "feature_df_val = val_df[feature_names]\n",
    "feature_df_test = test_df[feature_names]"
   ]
  },
  {
   "cell_type": "code",
   "execution_count": 5,
   "metadata": {
    "collapsed": true
   },
   "outputs": [],
   "source": [
    "v = DictVectorizer(sparse = False)\n",
    "feature_dict_train = feature_df_train.to_dict('records')\n",
    "feature_dict_val = feature_df_val.to_dict('records')\n",
    "feature_dict_test = feature_df_test.to_dict('records')\n",
    "\n",
    "X_train = v.fit_transform(feature_dict_train)\n",
    "X_val = v.transform(feature_dict_val)\n",
    "X_test = v.transform(feature_dict_test)"
   ]
  },
  {
   "cell_type": "code",
   "execution_count": 6,
   "metadata": {
    "collapsed": true
   },
   "outputs": [],
   "source": [
    "reward_train = train_df.reward.values\n",
    "reward_val = val_df.reward.values\n",
    "reward_test = test_df.reward.values\n",
    "\n",
    "action_train = train_df.discrete_action.values\n",
    "action_val = val_df.discrete_action.values\n",
    "action_test = test_df.discrete_action.values\n",
    "\n",
    "state_row_id_train = [int(x) for x in train_df.row_id.values]\n",
    "next_state_row_id_train =[int(x) for x in  train_df.row_id_next.values]\n",
    "\n",
    "state_row_id_val = [int(x) for x in val_df.row_id.values]\n",
    "next_state_row_id_val = [int(x) for x in val_df.row_id_next.values]\n",
    "\n",
    "state_row_id_test = [int(x) for x in test_df.row_id.values]\n",
    "next_state_row_id_test = [int(x) for x in test_df.row_id_next.values]"
   ]
  },
  {
   "cell_type": "code",
   "execution_count": 7,
   "metadata": {},
   "outputs": [
    {
     "data": {
      "text/plain": [
       "['../data/data_dict.pkl']"
      ]
     },
     "execution_count": 7,
     "metadata": {},
     "output_type": "execute_result"
    }
   ],
   "source": [
    "output_dict = {'train' : {\n",
    "                    'X' : X_train,\n",
    "                    'action' : action_train,\n",
    "                    'reward' : reward_train,\n",
    "                    'state_id' : state_row_id_train,\n",
    "                    'next_state_id' : next_state_row_id_train\n",
    "                },\n",
    "                'val' : {\n",
    "                    'X' : X_val,\n",
    "                    'action' : action_val,\n",
    "                    'reward' : reward_val,\n",
    "                    'state_id' : state_row_id_val,\n",
    "                    'next_state_id' : next_state_row_id_val\n",
    "                },\n",
    "              'test' : {\n",
    "                    'X' : X_test,\n",
    "                    'action' : action_test,\n",
    "                    'reward' : reward_test,\n",
    "                    'state_id' : state_row_id_test,\n",
    "                    'next_state_id' : next_state_row_id_test\n",
    "                },\n",
    "               'v' : v\n",
    "         }\n",
    "\n",
    "joblib.dump(output_dict, os.path.join(data_path, 'data_dict.pkl'))"
   ]
  }
 ],
 "metadata": {
  "kernelspec": {
   "display_name": "Python 3",
   "language": "python",
   "name": "python3"
  },
  "language_info": {
   "codemirror_mode": {
    "name": "ipython",
    "version": 3
   },
   "file_extension": ".py",
   "mimetype": "text/x-python",
   "name": "python",
   "nbconvert_exporter": "python",
   "pygments_lexer": "ipython3",
   "version": "3.6.3"
  }
 },
 "nbformat": 4,
 "nbformat_minor": 2
}
